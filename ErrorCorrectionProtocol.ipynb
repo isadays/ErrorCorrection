{
  "nbformat": 4,
  "nbformat_minor": 0,
  "metadata": {
    "colab": {
      "provenance": []
    },
    "kernelspec": {
      "name": "python3",
      "display_name": "Python 3"
    },
    "language_info": {
      "name": "python"
    }
  },
  "cells": [
    {
      "cell_type": "markdown",
      "source": [
        "Isabela P. L. Dias\n",
        "\n",
        "M.Sc. in Physics and  data scientist\n",
        "\n",
        "✉: isabeladiaspl@icloud.com\n",
        "\n",
        "LinkedIn: [diasplisabela](https://www.linkedin.com/in/diasplisabela/)\tGithub: [isadays](https://github.com/isadays/)\n",
        "\n",
        "São Paulo, Brazil."
      ],
      "metadata": {
        "id": "YQ--aZ8qhBAZ"
      }
    },
    {
      "cell_type": "markdown",
      "source": [
        "The expedient and stringent protocols are both quantum error correction protocols designed to protect quantum data from errors induced by noise in quantum computing systems.\n",
        "\n",
        "Expedient protocols are characterized by their speed and efficiency in error correction. They are suitable for scenarios where speed is crucial, such as real-time quantum communication, rapid data processing, or applications requiring low-latency error correction.\n",
        "\n",
        "Stringent protocols prioritize accuracy and reliability in error correction. They are suitable for applications where accuracy is paramount, such as quantum cryptography, fault-tolerant quantum computing, or tasks requiring high-fidelity error correction.\n",
        "\n"
      ],
      "metadata": {
        "id": "jsYNWGDtjjzv"
      }
    },
    {
      "cell_type": "markdown",
      "source": [
        "**References**:\n",
        "\n",
        "\n",
        "1.  Nickerson, N. H., Li, Y., & Benjamin, S. C. (2013). Topological quantum computing with a very noisy network and local error rates approaching one percent. Nature communications, **4(1)**, 1756.\n",
        "2.   Ghaeminezhad, N., & Cong, S. (2022). Preparation of the Hadamard and CNOT gates to realize the maximum entangled states. J. Frankl. Inst., **360**, 13870-13888.\n",
        "3. Introduction to Quantum Computing for Physicists -\n",
        "https://obm.physics.metu.edu.tr/intro-QC/courses/PHYS710/hands-on/hands-on-2/hands-on-2-book.html\n",
        "\n",
        "\n",
        "\n"
      ],
      "metadata": {
        "id": "P5Qmv0WJhojE"
      }
    },
    {
      "cell_type": "code",
      "execution_count": null,
      "metadata": {
        "id": "AuAF3GXzvVOR"
      },
      "outputs": [],
      "source": [
        "!pip install qiskit -U\n",
        "!pip install qiskit_aer\n",
        "!pip install qiskit-ignis\n",
        "!pip install pylatexenc"
      ]
    },
    {
      "cell_type": "code",
      "source": [
        "from qiskit import QuantumCircuit, transpile,assemble\n",
        "from qiskit_aer import AerSimulator\n",
        "from qiskit.visualization import plot_histogram\n",
        "from qiskit.transpiler.passes import Unroll3qOrMore\n",
        "from qiskit_aer.noise import NoiseModel\n",
        "from qiskit_aer.noise.errors import depolarizing_error\n",
        "from qiskit.ignis.mitigation.measurement import (complete_meas_cal, CompleteMeasFitter)\n",
        "import numpy as np"
      ],
      "metadata": {
        "id": "gh1Kqy2ew4pK"
      },
      "execution_count": 75,
      "outputs": []
    },
    {
      "cell_type": "markdown",
      "source": [
        "This code creates a simple quantum circuit with 5 qubits and 5 classical bits. The circuit applies Hadamard gates to the first qubit (qc.h(0)) and then applies a series of CNOT gates (qc.cx) between adjacent qubits. Finally, it measures all qubits and stores the results in the corresponding classical bits (qc.measure).\n",
        "\n",
        "After defining the circuit, it prints out the circuit diagram using print(qc.draw()). Then, it initializes an AerSimulator and runs the circuit on the simulator with 4000 shots (job = simulator.run(qc, shots=4000)). Once the simulation is complete, it retrieves the measurement results (counts = result.get_counts(qc)) and prints out the total counts obtained for each measurement outcome."
      ],
      "metadata": {
        "id": "JpDpKnEEPQLr"
      }
    },
    {
      "cell_type": "code",
      "source": [
        "# Create a Quantum Circuit with 5 qubits\n",
        "qc = QuantumCircuit(5, 5)\n",
        "\n",
        "# Add gates and measurements\n",
        "qc.h(0)\n",
        "qc.cx(0, 1)\n",
        "qc.cx(1, 2)\n",
        "qc.cx(2, 3)\n",
        "qc.cx(3, 4)\n",
        "qc.measure([0, 1, 2, 3, 4], [0, 1, 2, 3, 4])\n",
        "\n",
        "# Draw the circuit\n",
        "print(qc.draw())\n",
        "\n",
        "simulator = AerSimulator()\n",
        "job = simulator.run(qc, shots=4000)\n",
        "result = job.result()\n",
        "\n",
        "counts = result.get_counts(qc)\n",
        "print(\"\\nTotal counts:\", counts)\n"
      ],
      "metadata": {
        "colab": {
          "base_uri": "https://localhost:8080/"
        },
        "id": "zGgZulSuvW-k",
        "outputId": "6ffb609f-e797-48af-a5ba-82252d2ae7b8"
      },
      "execution_count": 61,
      "outputs": [
        {
          "output_type": "stream",
          "name": "stdout",
          "text": [
            "     ┌───┐          ┌─┐                      \n",
            "q_0: ┤ H ├──■───────┤M├──────────────────────\n",
            "     └───┘┌─┴─┐     └╥┘     ┌─┐              \n",
            "q_1: ─────┤ X ├──■───╫──────┤M├──────────────\n",
            "          └───┘┌─┴─┐ ║      └╥┘     ┌─┐      \n",
            "q_2: ──────────┤ X ├─╫───■───╫──────┤M├──────\n",
            "               └───┘ ║ ┌─┴─┐ ║      └╥┘┌─┐   \n",
            "q_3: ────────────────╫─┤ X ├─╫───■───╫─┤M├───\n",
            "                     ║ └───┘ ║ ┌─┴─┐ ║ └╥┘┌─┐\n",
            "q_4: ────────────────╫───────╫─┤ X ├─╫──╫─┤M├\n",
            "                     ║       ║ └───┘ ║  ║ └╥┘\n",
            "c: 5/════════════════╩═══════╩═══════╩══╩══╩═\n",
            "                     0       1       2  3  4 \n",
            "\n",
            "Total counts: {'00000': 2069, '11111': 1931}\n"
          ]
        }
      ]
    },
    {
      "cell_type": "markdown",
      "source": [
        "The function generate_ghz_state takes two arguments: qc, which is the quantum circuit to which the gates will be applied, and qubits, which is a list of qubit indices across which the GHZ state will be generated.\n",
        "\n",
        " The Hadamard gate (qc.h(qubits[0])) is applied to the first qubit in the list of qubits (qubits[0]). This puts the first qubit in a superposition state.\n",
        "\n",
        "A series of CNOT gates is applied to create entanglement between the first qubit and all the other qubits in the list. For each qubit qubit in the list qubits[1:] (excluding the first qubit), a CNOT gate is applied with the first qubit (qubits[0]) as the control qubit and qubit as the target qubit (qc.cx(qubits[0], qubit))."
      ],
      "metadata": {
        "id": "LwxpALq2Pg2-"
      }
    },
    {
      "cell_type": "code",
      "source": [
        "def generate_ghz_state(qc, qubits):\n",
        "    \"\"\"Generate a GHZ state across the specified qubits.\"\"\"\n",
        "    # Apply Hadamard gate to the first qubit\n",
        "    qc.h(qubits[0])\n",
        "    for qubit in qubits[1:]:\n",
        "       qc.cx(qubits[0], qubit)\n"
      ],
      "metadata": {
        "id": "LCe_6RKQvpfa"
      },
      "execution_count": 62,
      "outputs": []
    },
    {
      "cell_type": "markdown",
      "source": [
        "measure_stabilizer_z Function:\n",
        "Input Parameters: The function takes three parameters: qc, the quantum circuit; qubits, a list of qubits to be measured; and ancilla, an ancillary qubit used in the measurement process.\n",
        "\n",
        " First, a series of CNOT gates and Hadamard gates are applied to prepare the qubits for measurement in the Z-basis.\n",
        "\n",
        " A barrier is inserted to separate the preparation stage from the measurement stage.\n",
        "\n",
        " The first qubit in the qubits list is measured in the Z-basis using qc.measure([qubits[0]], [0]). After measurement, the qubit and ancilla are reset to the |0⟩ state using qc.reset(qubits[0]) and qc.reset(ancilla), respectively.\n",
        "\n",
        "measure_stabilizer_x Function: Similar to measure_stabilizer_z, this function also takes qc, qubits, and ancilla as parameters.\n",
        "\n",
        "The qubits are prepared for measurement in the X-basis by applying Hadamard gates to each qubit in the qubits list.\n",
        "\n",
        "Similar to measure_stabilizer_z, a barrier is inserted.\n",
        "\n",
        "The first qubit in the qubits list is measured in the X-basis. After measurement, the qubit and ancilla are reset to the |0⟩ state."
      ],
      "metadata": {
        "id": "euqPs_N0P7T3"
      }
    },
    {
      "cell_type": "code",
      "source": [
        "def measure_stabilizer_z(qc, qubits, ancilla):\n",
        "    \"\"\"Perform stabilizer measurement in the Z-basis.\"\"\"\n",
        "    qc.cx(qubits[0], ancilla)\n",
        "    qc.h(qubits[0])\n",
        "    for i in range(1, len(qubits)):\n",
        "        qc.cx(qubits[i], qubits[0])\n",
        "    qc.barrier()\n",
        "    qc.measure([qubits[0]], [0])\n",
        "    qc.reset(qubits[0])\n",
        "    qc.reset(ancilla)\n",
        "\n",
        "def measure_stabilizer_x(qc, qubits, ancilla):\n",
        "    \"\"\"Perform stabilizer measurement in the X-basis.\"\"\"\n",
        "    qc.h(qubits[0])\n",
        "    for i in range(1, len(qubits)):\n",
        "        qc.cx(qubits[i], qubits[0])\n",
        "    qc.barrier()\n",
        "    qc.measure([qubits[0]], [0])\n",
        "    qc.reset(qubits[0])\n",
        "    qc.reset(ancilla)\n"
      ],
      "metadata": {
        "id": "K9T8f2ebwVqg"
      },
      "execution_count": 63,
      "outputs": []
    },
    {
      "cell_type": "markdown",
      "source": [
        "apply_gate_error: The function takes four parameters: qc, the quantum circuit; gate, the gate operation to which the error is applied; qubits, the qubits on which the gate operates; and error_prob, the probability of error.\n",
        "\n",
        " An error matrix is constructed based on the given error_prob. This error matrix represents the error to be applied to the gate operation.\n",
        "\n",
        "The gate operation is multiplied by the error matrix to apply the error.\n",
        "\n",
        " The resulting error gate is applied to the specified qubits in the quantum circuit using qc.unitary.\n",
        "apply_measurement_error Function: This function takes three parameters: qc, the quantum circuit; qubit, the qubit on which the measurement operation is performed; and error_prob, the probability of error.\n",
        "\n",
        "Error Application: If a randomly generated number is less than the error_prob, indicating that an error occurs, the qubit is reset to the |0⟩ state using qc.reset(qubit). The function returns True to indicate that an error occurred; otherwise, it returns False.\n",
        "\n",
        "apply_bell_pair_error Function: Similar to apply_measurement_error, this function takes qc, qubits, and error_prob as parameters.\n",
        "\n",
        "Error Application: If a randomly generated number is less than the error_prob, indicating that an error occurs, both qubits in the Bell pair generation are reset to the |0⟩ state using qc.reset(qubits). The function returns True to indicate that an error occurred; otherwise, it returns False."
      ],
      "metadata": {
        "id": "Dsgj70FdQYgx"
      }
    },
    {
      "cell_type": "code",
      "source": [
        "def apply_gate_error(qc, gate, qubits, error_prob):\n",
        "    \"\"\"Apply an error to a gate operation.\"\"\"\n",
        "    error_matrix = np.sqrt(1 - error_prob) * np.eye(2) + np.sqrt(error_prob) * np.array([[0, 1], [1, 0]])\n",
        "    error_gate = gate * error_matrix\n",
        "    qc.unitary(error_gate, qubits)\n",
        "\n",
        "def apply_measurement_error(qc, qubit, error_prob):\n",
        "    \"\"\"Apply an error to a measurement operation.\"\"\"\n",
        "    if np.random.rand() < error_prob:\n",
        "        qc.reset(qubit)\n",
        "        return True\n",
        "    return False\n",
        "\n",
        "def apply_bell_pair_error(qc, qubits, error_prob):\n",
        "    \"\"\"Apply an error to Bell pair generation.\"\"\"\n",
        "    if np.random.rand() < error_prob:\n",
        "        qc.reset(qubits)\n",
        "        return True\n",
        "    return False\n"
      ],
      "metadata": {
        "id": "55FdayE5wjWD"
      },
      "execution_count": 16,
      "outputs": []
    },
    {
      "cell_type": "markdown",
      "source": [
        "expedient_protocol Function: It takes four parameters: qc (the quantum circuit), data_qubit (the qubit containing the data to be protected), ancilla_qubits (a list of ancillary qubits), and error_prob (the probability of error).\n",
        "\n",
        "Protocol Steps:\n",
        "\n",
        "Generate GHZ State: This function generates a GHZ state across the specified ancillary qubits.\n",
        "\n",
        "Measure Stabilizer in Z-basis: It performs a stabilizer measurement in the Z-basis using the ancillary qubits and the data qubit.\n",
        "\n",
        "Introduce Error: An error is introduced in the stabilizer measurement of the data qubit using the specified error probability.\n",
        "\n",
        "stringent_protocol Function: Similar to expedient_protocol, it takes qc, data_qubit, ancilla_qubits, and error_prob.\n",
        "\n",
        "Protocol Steps:\n",
        "\n",
        "Generate GHZ State: Generates a GHZ state across the specified ancillary qubits.\n",
        "\n",
        "Measure Stabilizer in X-basis: Performs a stabilizer measurement in the X-basis using the ancillary qubits and the data qubit.\n",
        "\n",
        "Introduce Error: Similar to expedient_protocol, an error is introduced in the stabilizer measurement of the data qubit using the specified error probability.\n"
      ],
      "metadata": {
        "id": "FdpNlX4gQzjc"
      }
    },
    {
      "cell_type": "code",
      "source": [
        "def expedient_protocol(qc, data_qubit, ancilla_qubits, error_prob):\n",
        "    \"\"\"Implement the EXPEDIENT protocol.\"\"\"\n",
        "    # Generate GHZ state\n",
        "    generate_ghz_state(qc, ancilla_qubits)\n",
        "    # Measure stabilizer in Z-basis\n",
        "    measure_stabilizer_z(qc, ancilla_qubits, data_qubit)\n",
        "    # Introduce error in stabilizer measurement\n",
        "    apply_measurement_error(qc, data_qubit, error_prob)\n",
        "\n",
        "def stringent_protocol(qc, data_qubit, ancilla_qubits, error_prob):\n",
        "    \"\"\"Implement the STRINGENT protocol.\"\"\"\n",
        "    # Generate GHZ state\n",
        "    generate_ghz_state(qc, ancilla_qubits)\n",
        "    # Measure stabilizer in X-basis\n",
        "    measure_stabilizer_x(qc, ancilla_qubits, data_qubit)\n",
        "    # Introduce error in stabilizer measurement\n",
        "    apply_measurement_error(qc, data_qubit, error_prob)\n"
      ],
      "metadata": {
        "id": "tO-NUJmNxMzI"
      },
      "execution_count": 64,
      "outputs": []
    },
    {
      "cell_type": "code",
      "source": [
        "# Define the number of qubits and ancilla qubits\n",
        "num_data_qubits = 1\n",
        "num_ancilla_qubits = 3\n",
        "\n",
        "# Create quantum circuits for EXPEDIENT and STRINGENT protocols\n",
        "expedient_circuit = QuantumCircuit(num_data_qubits + num_ancilla_qubits, num_data_qubits)\n",
        "stringent_circuit = QuantumCircuit(num_data_qubits + num_ancilla_qubits, num_data_qubits)\n",
        "\n",
        "# Set error probability\n",
        "error_prob = 0.1\n",
        "\n",
        "# Apply the protocol variants to the circuits\n",
        "expedient_protocol(expedient_circuit, 0, range(1, 4), error_prob)\n",
        "stringent_protocol(stringent_circuit, 0, range(1, 4), error_prob)\n",
        "\n",
        "# Transpile the circuits for simulation\n",
        "expedient_circuit = transpile(expedient_circuit, basis_gates=['u', 'cx'], optimization_level=3)\n",
        "stringent_circuit = transpile(stringent_circuit, basis_gates=['u', 'cx'], optimization_level=3)\n",
        "\n",
        "# Simulate the circuits\n",
        "simulator = AerSimulator()\n",
        "expedient_result = simulator.run(expedient_circuit).result()\n",
        "stringent_result = simulator.run(stringent_circuit).result()\n",
        "\n",
        "# Plot results\n",
        "expedient_counts = expedient_result.get_counts()\n",
        "stringent_counts = stringent_result.get_counts()\n",
        "\n",
        "print(\"EXPEDIENT Circuit:\")\n",
        "print(expedient_circuit)\n",
        "print(\"STRINGENT Circuit:\")\n",
        "print(stringent_circuit)\n",
        "print(\"EXPEDIENT Counts:\")\n",
        "print(expedient_counts)\n",
        "print(\"STRINGENT Counts:\")\n",
        "print(stringent_counts)\n",
        "plot_histogram([expedient_counts, stringent_counts], legend=['EXPEDIENT', 'STRINGENT'])\n"
      ],
      "metadata": {
        "colab": {
          "base_uri": "https://localhost:8080/",
          "height": 935
        },
        "id": "F7jhJwJKxSYz",
        "outputId": "ef626f76-0887-4f07-910c-20754ca61291"
      },
      "execution_count": 65,
      "outputs": [
        {
          "output_type": "stream",
          "name": "stdout",
          "text": [
            "EXPEDIENT Circuit:\n",
            "                             ┌───┐                         ░           \n",
            "q_0: ────────────────────────┤ X ├─────────────────────────░──|0>──────\n",
            "     ┌────────────┐          └─┬─┘┌────────────┐┌───┐┌───┐ ░  ┌─┐      \n",
            "q_1: ┤ U(π/2,0,π) ├──■────■────■──┤ U(π/2,0,π) ├┤ X ├┤ X ├─░──┤M├──|0>─\n",
            "     └────────────┘┌─┴─┐  │       └────────────┘└─┬─┘└─┬─┘ ░  └╥┘      \n",
            "q_2: ──────────────┤ X ├──┼───────────────────────■────┼───░───╫───────\n",
            "                   └───┘┌─┴─┐                          │   ░   ║       \n",
            "q_3: ───────────────────┤ X ├──────────────────────────■───░───╫───────\n",
            "                        └───┘                              ░   ║       \n",
            "c: 1/══════════════════════════════════════════════════════════╩═══════\n",
            "                                                               0       \n",
            "STRINGENT Circuit:\n",
            "                                                      ░           \n",
            "q_0: ─────────────────────────────────────────────────░──|0>──────\n",
            "     ┌────────────┐          ┌────────────┐┌───┐┌───┐ ░  ┌─┐      \n",
            "q_1: ┤ U(π/2,0,π) ├──■────■──┤ U(π/2,0,π) ├┤ X ├┤ X ├─░──┤M├──|0>─\n",
            "     └────────────┘┌─┴─┐  │  └────────────┘└─┬─┘└─┬─┘ ░  └╥┘      \n",
            "q_2: ──────────────┤ X ├──┼──────────────────■────┼───░───╫───────\n",
            "                   └───┘┌─┴─┐                     │   ░   ║       \n",
            "q_3: ───────────────────┤ X ├─────────────────────■───░───╫───────\n",
            "                        └───┘                         ░   ║       \n",
            "c: 1/═════════════════════════════════════════════════════╩═══════\n",
            "                                                          0       \n",
            "EXPEDIENT Counts:\n",
            "{'1': 499, '0': 525}\n",
            "STRINGENT Counts:\n",
            "{'0': 496, '1': 528}\n"
          ]
        },
        {
          "output_type": "execute_result",
          "data": {
            "text/plain": [
              "<Figure size 700x500 with 1 Axes>"
            ],
            "image/png": "[encoded data removed]"
          },
          "metadata": {},
          "execution_count": 65
        }
      ]
    },
    {
      "cell_type": "code",
      "source": [
        "from qiskit.visualization import circuit_drawer\n",
        "\n",
        "# Draw the circuit\n",
        "#circuit_drawer(expedient_circuit, output='text')\n",
        "circuit_drawer(expedient_circuit, output='text')\n",
        "\n"
      ],
      "metadata": {
        "colab": {
          "base_uri": "https://localhost:8080/",
          "height": 186
        },
        "id": "eoXVdjw6cnEO",
        "outputId": "41ec2ee8-a733-4a28-9e7c-4ae954cfdc33"
      },
      "execution_count": 126,
      "outputs": [
        {
          "output_type": "execute_result",
          "data": {
            "text/plain": [
              "                             ┌───┐                         ░           \n",
              "q_0: ────────────────────────┤ X ├─────────────────────────░──|0>──────\n",
              "     ┌────────────┐          └─┬─┘┌────────────┐┌───┐┌───┐ ░  ┌─┐      \n",
              "q_1: ┤ U(π/2,0,π) ├──■────■────■──┤ U(π/2,0,π) ├┤ X ├┤ X ├─░──┤M├──|0>─\n",
              "     └────────────┘┌─┴─┐  │       └────────────┘└─┬─┘└─┬─┘ ░  └╥┘      \n",
              "q_2: ──────────────┤ X ├──┼───────────────────────■────┼───░───╫───────\n",
              "                   └───┘┌─┴─┐                          │   ░   ║       \n",
              "q_3: ───────────────────┤ X ├──────────────────────────■───░───╫───────\n",
              "                        └───┘                              ░   ║       \n",
              "c: 1/══════════════════════════════════════════════════════════╩═══════\n",
              "                                                               0       "
            ],
            "text/html": [
              "<pre style=\"word-wrap: normal;white-space: pre;background: #fff0;line-height: 1.1;font-family: &quot;Courier New&quot;,Courier,monospace\">                             ┌───┐                         ░           \n",
              "q_0: ────────────────────────┤ X ├─────────────────────────░──|0>──────\n",
              "     ┌────────────┐          └─┬─┘┌────────────┐┌───┐┌───┐ ░  ┌─┐      \n",
              "q_1: ┤ U(π/2,0,π) ├──■────■────■──┤ U(π/2,0,π) ├┤ X ├┤ X ├─░──┤M├──|0>─\n",
              "     └────────────┘┌─┴─┐  │       └────────────┘└─┬─┘└─┬─┘ ░  └╥┘      \n",
              "q_2: ──────────────┤ X ├──┼───────────────────────■────┼───░───╫───────\n",
              "                   └───┘┌─┴─┐                          │   ░   ║       \n",
              "q_3: ───────────────────┤ X ├──────────────────────────■───░───╫───────\n",
              "                        └───┘                              ░   ║       \n",
              "c: 1/══════════════════════════════════════════════════════════╩═══════\n",
              "                                                               0       </pre>"
            ]
          },
          "metadata": {},
          "execution_count": 126
        }
      ]
    },
    {
      "cell_type": "code",
      "source": [
        "optimization_levels = [0, 1, 2, 3]\n",
        "\n",
        "# Dictionary to store the transpiled circuits\n",
        "transpiled_circuits = {}\n",
        "\n",
        "# Transpile circuits with different optimization levels\n",
        "for opt_level in optimization_levels:\n",
        "    expedient_circuit_opt = transpile(expedient_circuit,\n",
        "                                      basis_gates=['u', 'cx'],\n",
        "                                      optimization_level=opt_level)\n",
        "    stringent_circuit_opt = transpile(stringent_circuit,\n",
        "                                      basis_gates=['u', 'cx'],\n",
        "                                      optimization_level=opt_level)\n",
        "    transpiled_circuits[opt_level] = (expedient_circuit_opt, stringent_circuit_opt)\n",
        "\n",
        "# Simulate the transpiled circuits and store the results\n",
        "results = {}\n",
        "for opt_level, (expedient_circuit_opt, stringent_circuit_opt) in transpiled_circuits.items():\n",
        "    expedient_result_opt = simulator.run(expedient_circuit_opt).result()\n",
        "    stringent_result_opt = simulator.run(stringent_circuit_opt).result()\n",
        "    results[opt_level] = (expedient_result_opt.get_counts(), stringent_result_opt.get_counts())\n",
        "\n",
        "# Plot results for each optimization level\n",
        "for opt_level, (expedient_counts_opt, stringent_counts_opt) in results.items():\n",
        "    print(f\"Optimization Level {opt_level}:\")\n",
        "    print(\"EXPEDIENT Counts:\")\n",
        "    print(expedient_counts_opt)\n",
        "    print(\"STRINGENT Counts:\")\n",
        "    print(stringent_counts_opt)\n",
        "    plot_histogram([expedient_counts_opt, stringent_counts_opt],\n",
        "                   legend=['EXPEDIENT', 'STRINGENT'],\n",
        "                   title=f\"Optimization Level {opt_level}\")\n"
      ],
      "metadata": {
        "colab": {
          "base_uri": "https://localhost:8080/"
        },
        "id": "JFk7_gtOxVvQ",
        "outputId": "59788281-4452-40db-a99e-fb3f4f510182"
      },
      "execution_count": 66,
      "outputs": [
        {
          "output_type": "stream",
          "name": "stdout",
          "text": [
            "Optimization Level 0:\n",
            "EXPEDIENT Counts:\n",
            "{'1': 506, '0': 518}\n",
            "STRINGENT Counts:\n",
            "{'0': 528, '1': 496}\n",
            "Optimization Level 1:\n",
            "EXPEDIENT Counts:\n",
            "{'1': 495, '0': 529}\n",
            "STRINGENT Counts:\n",
            "{'1': 512, '0': 512}\n",
            "Optimization Level 2:\n",
            "EXPEDIENT Counts:\n",
            "{'1': 539, '0': 485}\n",
            "STRINGENT Counts:\n",
            "{'0': 497, '1': 527}\n",
            "Optimization Level 3:\n",
            "EXPEDIENT Counts:\n",
            "{'0': 503, '1': 521}\n",
            "STRINGENT Counts:\n",
            "{'1': 480, '0': 544}\n"
          ]
        }
      ]
    },
    {
      "cell_type": "code",
      "source": [
        "def calculate_error_rate(counts, expected_counts):\n",
        "    \"\"\"\n",
        "    Calculate the error rate based on the counts obtained from simulation results.\n",
        "\n",
        "    Args:\n",
        "        counts (dict): Dictionary containing the counts obtained from simulation results.\n",
        "        expected_counts (dict): Dictionary containing the expected counts for comparison.\n",
        "\n",
        "    Returns:\n",
        "        float: Error rate calculated based on the counts.\n",
        "    \"\"\"\n",
        "    total_errors = 0\n",
        "    total_measurements = 0\n",
        "\n",
        "    # Calculate total errors\n",
        "    for outcome, count in counts.items():\n",
        "        if outcome in expected_counts:\n",
        "            total_errors += abs(count - expected_counts[outcome])\n",
        "            total_measurements += count\n",
        "\n",
        "    # Calculate error rate\n",
        "    error_rate = total_errors / total_measurements\n",
        "\n",
        "    return error_rate\n"
      ],
      "metadata": {
        "id": "88Dqw_JX9le0"
      },
      "execution_count": 32,
      "outputs": []
    },
    {
      "cell_type": "code",
      "source": [
        "# Call the calculate_error_rate function for the EXPEDIENT protocol\n",
        "expedient_error_rate = calculate_error_rate(expedient_counts)\n",
        "\n",
        "# Call the calculate_error_rate function for the STRINGENT protocol\n",
        "stringent_error_rate = calculate_error_rate(stringent_counts)\n",
        "\n",
        "# Print the error rates\n",
        "print(\"EXPEDIENT Error Rate:\", expedient_error_rate)\n",
        "print(\"STRINGENT Error Rate:\", stringent_error_rate)\n"
      ],
      "metadata": {
        "colab": {
          "base_uri": "https://localhost:8080/"
        },
        "id": "gierL46xRzAS",
        "outputId": "4e289b9a-806d-4af0-95c9-02909bbaca87"
      },
      "execution_count": 69,
      "outputs": [
        {
          "output_type": "stream",
          "name": "stdout",
          "text": [
            "EXPEDIENT Error Rate: 0.4873046875\n",
            "STRINGENT Error Rate: 0.515625\n"
          ]
        }
      ]
    },
    {
      "cell_type": "markdown",
      "source": [
        "The following function takes a quantum circuit, applies gate synthesis optimization by transpiling the circuit using a pass manager that includes the Unroll3qOrMore pass, and returns the transpiled circuit with gate synthesis optimization applied."
      ],
      "metadata": {
        "id": "85giAIjkSdWH"
      }
    },
    {
      "cell_type": "code",
      "source": [
        "# Function to apply gate synthesis optimization\n",
        "def apply_gate_synthesis(circuit):\n",
        "    # Define a pass manager with the Unroller pass for gate synthesis\n",
        "    pass_manager = Unroll3qOrMore(['u3', 'cx'])\n",
        "\n",
        "    # Transpile the circuit to apply gate synthesis\n",
        "    transpiled_circuit = transpile(circuit, optimization_level=0)\n",
        "\n",
        "    return transpiled_circuit\n"
      ],
      "metadata": {
        "id": "_tiiwMQH-wrk"
      },
      "execution_count": 70,
      "outputs": []
    },
    {
      "cell_type": "code",
      "source": [
        "expedient_optimized = apply_gate_synthesis(expedient_circuit)\n",
        "stringent_optimized = apply_gate_synthesis(stringent_circuit)\n",
        "\n",
        "# Compare the original and optimized circuit depths\n",
        "expedient_depth = expedient_circuit.depth()\n",
        "stringent_depth = stringent_circuit.depth()\n",
        "expedient_opt_depth = expedient_optimized.depth()\n",
        "stringent_opt_depth = stringent_optimized.depth()\n",
        "\n",
        "print(\"Original EXPEDIENT Circuit Depth:\", expedient_depth)\n",
        "print(\"Optimized EXPEDIENT Circuit Depth:\", expedient_opt_depth)\n",
        "print(\"Original STRINGENT Circuit Depth:\", stringent_depth)\n",
        "print(\"Optimized STRINGENT Circuit Depth:\", stringent_opt_depth)\n"
      ],
      "metadata": {
        "colab": {
          "base_uri": "https://localhost:8080/"
        },
        "id": "waJh4zXpSKdV",
        "outputId": "5ca0c401-1bf7-4dca-bb5a-13dc7ea05328"
      },
      "execution_count": 72,
      "outputs": [
        {
          "output_type": "stream",
          "name": "stdout",
          "text": [
            "Original EXPEDIENT Circuit Depth: 9\n",
            "Optimized EXPEDIENT Circuit Depth: 9\n",
            "Original STRINGENT Circuit Depth: 8\n",
            "Optimized STRINGENT Circuit Depth: 8\n"
          ]
        }
      ]
    },
    {
      "cell_type": "markdown",
      "source": [
        "The following code defines several functions for simulating quantum circuits with noise and performing error mitigation using zero noise extrapolation"
      ],
      "metadata": {
        "id": "YXNXuiq8TCik"
      }
    },
    {
      "cell_type": "code",
      "source": [
        "# Function to simulate a quantum circuit with noise\n",
        "def simulate_with_noise(circuit, noise_model, shots=1024):\n",
        "    simulator = AerSimulator()\n",
        "    t_circuit = transpile(circuit, simulator)\n",
        "    qobj = assemble(t_circuit, shots=shots)\n",
        "    result = simulator.run(qobj, noise_model=noise_model).result()\n",
        "    counts = result.get_counts(circuit)\n",
        "    return counts"
      ],
      "metadata": {
        "id": "eCdq5L-YATie"
      },
      "execution_count": 117,
      "outputs": []
    },
    {
      "cell_type": "code",
      "source": [
        "error_prob_u3 = 0.001\n",
        "error_prob_cx = 0.01\n",
        "\n",
        "error_u3 = depolarizing_error(error_prob_u3, 1)\n",
        "error_cx = depolarizing_error(error_prob_cx, 2)\n",
        "\n",
        "noise_model = NoiseModel()\n",
        "noise_model.add_all_qubit_quantum_error(error_u3, ['u3'])\n",
        "noise_model.add_all_qubit_quantum_error(error_cx, ['cx'])\n"
      ],
      "metadata": {
        "id": "ZtjKyh9xNboL"
      },
      "execution_count": 76,
      "outputs": []
    },
    {
      "cell_type": "code",
      "source": [
        "# Simulate the EXPEDIENT circuit with noise using the noise model\n",
        "expedient_counts_with_noise = simulate_with_noise(expedient_circuit, noise_model)\n",
        "stringent_counts_with_noise = simulate_with_noise(stringent_circuit, noise_model)\n",
        "\n",
        "# Plot the histogram of counts\n",
        "plot_histogram(expedient_counts_with_noise)\n",
        "plot_histogram(stringent_counts_with_noise)"
      ],
      "metadata": {
        "colab": {
          "base_uri": "https://localhost:8080/",
          "height": 504
        },
        "id": "pOAV6aGYTZ3-",
        "outputId": "c7d67f6c-1760-4414-f722-287b082193e6"
      },
      "execution_count": 81,
      "outputs": [
        {
          "output_type": "stream",
          "name": "stderr",
          "text": [
            "<ipython-input-73-d24ac2a96c63>:6: DeprecationWarning: Using a qobj for run() is deprecated as of qiskit-aer 0.14 and will be removed no sooner than 3 months from that release date. Transpiled circuits should now be passed directly using `backend.run(circuits, **run_options).\n",
            "  result = simulator.run(qobj, noise_model=noise_model).result()\n"
          ]
        },
        {
          "output_type": "execute_result",
          "data": {
            "text/plain": [
              "<Figure size 700x500 with 1 Axes>"
            ],
            "image/png": "[encoded data removed]"
          },
          "metadata": {},
          "execution_count": 81
        }
      ]
    },
    {
      "cell_type": "code",
      "source": [],
      "metadata": {
        "id": "uq_uTlCwUKjx"
      },
      "execution_count": null,
      "outputs": []
    }
  ]
}